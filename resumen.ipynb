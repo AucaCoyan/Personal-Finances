{
 "cells": [
  {
   "cell_type": "code",
   "execution_count": null,
   "metadata": {},
   "outputs": [],
   "source": [
    "import pandas as pd\n",
    "import numpy as np\n",
    "import matplotlib.pyplot as plt\n",
    "\n",
    "pd.set_option('display.float_format', '{:,}'.format)"
   ]
  },
  {
   "cell_type": "markdown",
   "metadata": {},
   "source": [
    "# Resumen"
   ]
  },
  {
   "cell_type": "code",
   "execution_count": null,
   "metadata": {},
   "outputs": [],
   "source": [
    "# Fondos a tener en Brubank, y Santander. Porque algunas se pagan de una, y otras se pagan de otra.\n",
    "\n",
    "# Brubank\n",
    "Edenor = 1400\n",
    "Naturgy = 280\n",
    "Telecentro = 4700\n",
    "Personal = 1600\n",
    "\n",
    "# Santander\n",
    "Ichi = 1790\n",
    "Netflix = 1050\n",
    "Alquiler = 7000\n",
    "Expensas = 5500\n",
    "\n",
    "# A esto agregarle las veces que pagas con la tarjeta en Coto o pedis a pedidos ya y no tenés efectivo para pagarle en la puerta\n",
    "# Tendrias que tener en cuenta el dia que compras en coto si querés tener efectivo y sacar para después pagarle :joy:"
   ]
  },
  {
   "cell_type": "markdown",
   "metadata": {},
   "source": [
    "# Wallets y brokers\n",
    "TODO: En un futuro voy a poner como diccionarios cosa que eco tenga dos valores, uno en pesos y uno en dólares, y binance tenga uno por cada moneda que tiene adentro"
   ]
  },
  {
   "cell_type": "code",
   "execution_count": null,
   "metadata": {},
   "outputs": [],
   "source": [
    "# Wallets\n",
    "Efectivo = 2000 # ARS\n",
    "Provincia = 4012.92 # ARS\n",
    "Mercadopago = 5640\n",
    "Santander = Ichi \\\n",
    "    + Netflix \\\n",
    "    + Alquiler \\\n",
    "    + Expensas\n",
    "\n",
    "Uala = 0.00\n",
    "Brubank = Edenor \\\n",
    "    + Naturgy \\\n",
    "    + Telecentro \\\n",
    "    + Personal\n",
    "\n",
    "# Brokers\n",
    "Ecovalores = 1764.50 # ARS\n",
    "EcovaloresUSD = 89.16 # USD\n",
    "InvertirOnline = 981.13 # ARS\n",
    "InvertirOnlineUSD = 102.74 # USD\n",
    "Binance = 0.0006187 # BTC\n",
    "Trezor = 0.0000669 # BTC\n",
    "Metamask = 84.15 # USD (tiene ETH y BNB)\n",
    "Phantom = 15.04 # USD\n",
    "Afluenta = 79.98\n",
    "Ripio = 24.16 # ARS\n",
    "\n",
    "print(Santander, Brubank)"
   ]
  },
  {
   "cell_type": "markdown",
   "metadata": {},
   "source": [
    "# Tasas de cambios"
   ]
  },
  {
   "cell_type": "code",
   "execution_count": null,
   "metadata": {},
   "outputs": [],
   "source": [
    "# Tasas de cambios\n",
    "ARS_USD = 212.69\n",
    "ARS_EUR = (113*98)*ARS_USD  # Aprox\n",
    "BTC_USD = 56474.17\n",
    "BTC_ARS = 12011492.26\n",
    "\n",
    "\n",
    "ARS_USD, ARS_EUR, BTC_USD, BTC_ARS\n"
   ]
  },
  {
   "cell_type": "code",
   "execution_count": null,
   "metadata": {},
   "outputs": [],
   "source": [
    "\n",
    "dict_de_fondos = {\n",
    "                  'Efectivo':         [Efectivo,          15.44,                0], \n",
    "                  'Santander':        [Santander,         0.01,                 0], \n",
    "                  'Provincia':        [Provincia,         91.29,                0],  \n",
    "                  'Mercadopago':      [Mercadopago,       0,                    0], \n",
    "                  'Brubank':          [Brubank,           0,                    0], \n",
    "                  'Uala':             [Uala,              0,                    0],\n",
    "                  'Ecovalores':       [Ecovalores,        EcovaloresUSD,        0],\n",
    "                  'InvertirOnline':   [InvertirOnline,    InvertirOnlineUSD,    0],\n",
    "                  'Binance':          [0,                 0,                     Binance],\n",
    "                  'Trezor':           [0,                 0,                     Trezor],\n",
    "                  'Metamask':         [0,                 Metamask,             0],\n",
    "                  'Phantom':          [0,                 Phantom,              0],\n",
    "                  'Alfuenta':         [Afluenta,          0,                    0], \n",
    "                  'Ripio':            [Ripio,             2.23,                 0]\n",
    "                  }\n",
    "\n",
    "monedas = ['ARS', 'USD', 'BTC']\n",
    "\n",
    "resumen = pd.DataFrame()\n",
    "resumen = resumen.from_dict(dict_de_fondos, \n",
    "                            columns=monedas,\n",
    "                            orient='index')"
   ]
  },
  {
   "cell_type": "code",
   "execution_count": null,
   "metadata": {},
   "outputs": [],
   "source": [
    "# TODO: mejor formato para la tabla\n",
    "\n",
    "resumen['ARS_eq'] = (resumen['ARS'] + \\\n",
    "                    resumen['USD'] * ARS_USD + \\\n",
    "                    resumen['BTC'] * BTC_ARS).round(2)\n",
    "\n",
    "\n",
    "resumen['USD_eq'] = (resumen['ARS_eq'] / ARS_USD).round(2)\n",
    "\n",
    "resumen['BTC_eq'] = (resumen['ARS_eq'] / BTC_ARS).round(8)\n",
    "\n",
    "# Columna Percentage es para saber %s\n",
    "resumen['percentage'] = (resumen['ARS_eq'] / resumen['ARS_eq'].sum() * 100).round(2)\n"
   ]
  },
  {
   "cell_type": "code",
   "execution_count": null,
   "metadata": {},
   "outputs": [],
   "source": [
    "custom_styles = [\n",
    "  dict(selector='tr:hover', props=[('background-color', '#f00fb3')]),\n",
    "  \n",
    "  dict(selector='th', props=[('background', 'rgb(61,164,166)'),\n",
    "                             ('padding', '10px 40px'),\n",
    "                             ('font-size', '120%'),\n",
    "                             ('text-align', 'left')]),\n",
    "  \n",
    "  dict(selector=\"caption\", props=[(\"caption-side\", \"top\"),\n",
    "                                  ('font-size', '150%'),\n",
    "                                  ('text-align', 'center')]),\n",
    "\n",
    "  dict(selector='tr:hover', props=[('background-color', '#f00fb3')]),\n",
    "            ]\n",
    "\n",
    "\n",
    "formato_de_moneda = {\n",
    "                     ('ARS'): lambda x: \"$ {:,.2f}\".format(x),\n",
    "                     ('USD'): lambda x: \"$ {:,.2f}\".format(x),\n",
    "                     ('BTC'): lambda x: \"{:,.4f}\".format(x),\n",
    "\n",
    "                     ('ARS_eq'): lambda x: \"$ {:,.2f}\".format(x),\n",
    "                     ('USD_eq'): lambda x: \"$ {:,.2f}\".format(x),\n",
    "                     ('BTC_eq'): lambda x: \"{:,.3f}\".format(x),\n",
    "                     ('percentage'): lambda x: \"{:.1f} %\".format(x)\n",
    "                     }\n",
    "\n",
    "resumen.style.set_table_styles(custom_styles).set_caption('Tabla resumen').format(formatter=formato_de_moneda).bar('percentage')\n"
   ]
  },
  {
   "cell_type": "code",
   "execution_count": null,
   "metadata": {},
   "outputs": [],
   "source": [
    "resumen.loc['Trezor']\n"
   ]
  },
  {
   "cell_type": "code",
   "execution_count": null,
   "metadata": {},
   "outputs": [],
   "source": [
    "# creo un df con el Dolar CCL\n",
    "dolarccl = pd.read_csv('Data/CCL.csv')\n",
    "dolarccl['Date'] = pd.to_datetime(dolarccl['Date'])\n",
    "dolarccl.set_index(dolarccl['Date'], inplace=True)\n",
    "dolarccl.drop(columns='Date', inplace=True)\n",
    "dolarccl"
   ]
  },
  {
   "cell_type": "code",
   "execution_count": null,
   "metadata": {},
   "outputs": [],
   "source": [
    "# Leo el CSV\n",
    "exchanges = pd.read_csv('exchanges.csv', index_col=0)\n",
    "# Paso los object a datetime64\n",
    "exchanges['Fecha'] = pd.to_datetime(exchanges['Fecha'], dayfirst=True)\n",
    "\n",
    "# Agrego la columna Dolares\n",
    "exchanges['Dolares'] = 0.0\n",
    "\n",
    "exchanges"
   ]
  },
  {
   "cell_type": "code",
   "execution_count": null,
   "metadata": {},
   "outputs": [],
   "source": [
    "operacion = 1\n",
    "columna = 'Fecha'\n",
    "asd = exchanges.at[operacion, columna]\n",
    "dolarccl.loc[asd]"
   ]
  },
  {
   "cell_type": "code",
   "execution_count": null,
   "metadata": {},
   "outputs": [],
   "source": [
    "for operacion in exchanges.index:\n",
    "    columna = 'Fecha'\n",
    "\n",
    "    # Busco el CCL de la tabla dolarccl, de acuerdo a la fecha\n",
    "    ccl_operacion = dolarccl.loc[exchanges.at[operacion, columna]]\n",
    "\n",
    "    exchanges.at[operacion, 'Dolar'] = ccl_operacion\n",
    "\n",
    "# Poner los dolares CCL en Dolar\n",
    "\n",
    "# Calculo los dolares\n",
    "exchanges['Dolares'] = (exchanges['Monto'] / exchanges['Dolar']).round(2)\n",
    "exchanges"
   ]
  },
  {
   "cell_type": "code",
   "execution_count": null,
   "metadata": {},
   "outputs": [],
   "source": [
    "dolarccl.loc['2019-06-28']"
   ]
  }
 ],
 "metadata": {
  "interpreter": {
   "hash": "186d8d91d0a2c4201230aea084efaf4e33b7d92a502e42db9f07f6f3b8511506"
  },
  "kernelspec": {
   "display_name": "Python 3.9.5 64-bit",
   "language": "python",
   "name": "python3"
  },
  "language_info": {
   "codemirror_mode": {
    "name": "ipython",
    "version": 3
   },
   "file_extension": ".py",
   "mimetype": "text/x-python",
   "name": "python",
   "nbconvert_exporter": "python",
   "pygments_lexer": "ipython3",
   "version": "3.9.7"
  },
  "orig_nbformat": 4
 },
 "nbformat": 4,
 "nbformat_minor": 2
}
