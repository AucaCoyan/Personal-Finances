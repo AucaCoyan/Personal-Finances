{
 "cells": [
  {
   "cell_type": "code",
   "execution_count": null,
   "metadata": {},
   "outputs": [],
   "source": [
    "import pandas as pd\n",
    "import requests"
   ]
  },
  {
   "cell_type": "code",
   "execution_count": null,
   "metadata": {},
   "outputs": [],
   "source": [
    "url = requests.get(\"https://www.coingecko.com/en/categories\")\n",
    "# Read the html, pick the first item, and set the index to the ranking of the category\n",
    "DF = pd.read_html(url.text)[0].set_index('#')\n",
    "DF[~DF['Category'].str.contains('Ecosystem')]"
   ]
  },
  {
   "cell_type": "code",
   "execution_count": null,
   "metadata": {},
   "outputs": [],
   "source": [
    "DF"
   ]
  }
 ],
 "metadata": {
  "interpreter": {
   "hash": "5c1f10e97851212c7f776ac5fd47e9fe8f0ed054d7c0529d316dde8bd6167fb8"
  },
  "kernelspec": {
   "display_name": "Python 3.9.5 ('Finanzas-6tqb0gU0')",
   "language": "python",
   "name": "python3"
  },
  "language_info": {
   "codemirror_mode": {
    "name": "ipython",
    "version": 3
   },
   "file_extension": ".py",
   "mimetype": "text/x-python",
   "name": "python",
   "nbconvert_exporter": "python",
   "pygments_lexer": "ipython3",
   "version": "3.9.7"
  },
  "orig_nbformat": 4
 },
 "nbformat": 4,
 "nbformat_minor": 2
}
