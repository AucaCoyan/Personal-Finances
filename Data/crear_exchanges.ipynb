{
 "cells": [
  {
   "cell_type": "code",
   "execution_count": 1,
   "metadata": {},
   "outputs": [],
   "source": [
    "import pandas as pd"
   ]
  },
  {
   "cell_type": "code",
   "execution_count": 2,
   "metadata": {},
   "outputs": [
    {
     "data": {
      "text/html": [
       "<div>\n",
       "<style scoped>\n",
       "    .dataframe tbody tr th:only-of-type {\n",
       "        vertical-align: middle;\n",
       "    }\n",
       "\n",
       "    .dataframe tbody tr th {\n",
       "        vertical-align: top;\n",
       "    }\n",
       "\n",
       "    .dataframe thead th {\n",
       "        text-align: right;\n",
       "    }\n",
       "</style>\n",
       "<table border=\"1\" class=\"dataframe\">\n",
       "  <thead>\n",
       "    <tr style=\"text-align: right;\">\n",
       "      <th></th>\n",
       "      <th>Tipo</th>\n",
       "      <th>Cuenta</th>\n",
       "      <th>Monto</th>\n",
       "      <th>Fecha</th>\n",
       "      <th>Dolar</th>\n",
       "      <th>Dolares</th>\n",
       "    </tr>\n",
       "  </thead>\n",
       "  <tbody>\n",
       "    <tr>\n",
       "      <th>0</th>\n",
       "      <td>Ingreso</td>\n",
       "      <td>Afluenta</td>\n",
       "      <td>5000.0</td>\n",
       "      <td>2018-07-27</td>\n",
       "      <td>27.69</td>\n",
       "      <td>180.69</td>\n",
       "    </tr>\n",
       "    <tr>\n",
       "      <th>1</th>\n",
       "      <td>Ingreso</td>\n",
       "      <td>Bullmarket Brokers</td>\n",
       "      <td>3500.0</td>\n",
       "      <td>2018-08-10</td>\n",
       "      <td>29.82</td>\n",
       "      <td>117.39</td>\n",
       "    </tr>\n",
       "  </tbody>\n",
       "</table>\n",
       "</div>"
      ],
      "text/plain": [
       "      Tipo              Cuenta   Monto      Fecha  Dolar  Dolares\n",
       "0  Ingreso            Afluenta  5000.0 2018-07-27  27.69   180.69\n",
       "1  Ingreso  Bullmarket Brokers  3500.0 2018-08-10  29.82   117.39"
      ]
     },
     "execution_count": 2,
     "metadata": {},
     "output_type": "execute_result"
    }
   ],
   "source": [
    "exchanges = pd.DataFrame()\n",
    "exchanges_columnas = ['Tipo', 'Cuenta', 'Monto', 'Fecha', 'Dolar', 'Dolares']\n",
    "dict_de_exchanges = {'0': ['Ingreso', 'Afluenta', 500.00, '2018-07-27', 27.69, 180.69],\n",
    "                     '1': ['Ingreso', 'Bullmarket Brokers', 350, '2018-08-10', 29.82, 117.39]}\n",
    "exchanges = exchanges.from_dict(dict_de_exchanges, \n",
    "                                columns=exchanges_columnas,\n",
    "                                orient='index')\n",
    "exchanges['Fecha'] = pd.to_datetime(exchanges['Fecha'], dayfirst=True)\n",
    "exchanges.to_csv('exchanges.csv')\n",
    "exchanges"
   ]
  }
 ],
 "metadata": {
  "interpreter": {
   "hash": "186d8d91d0a2c4201230aea084efaf4e33b7d92a502e42db9f07f6f3b8511506"
  },
  "kernelspec": {
   "display_name": "Python 3.9.5 64-bit",
   "language": "python",
   "name": "python3"
  },
  "language_info": {
   "codemirror_mode": {
    "name": "ipython",
    "version": 3
   },
   "file_extension": ".py",
   "mimetype": "text/x-python",
   "name": "python",
   "nbconvert_exporter": "python",
   "pygments_lexer": "ipython3",
   "version": "3.9.5"
  },
  "orig_nbformat": 4
 },
 "nbformat": 4,
 "nbformat_minor": 2
}
