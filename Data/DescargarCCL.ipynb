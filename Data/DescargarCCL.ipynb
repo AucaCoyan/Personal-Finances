{
 "cells": [
  {
   "cell_type": "code",
   "execution_count": null,
   "metadata": {},
   "outputs": [],
   "source": [
    "import yfinance as yf\n",
    "import pandas as pd\n",
    "import numpy as np\n",
    "from datetime import date\n",
    "\n",
    "años = 4\n",
    "\n",
    "ccl = pd.DataFrame()\n",
    "adr = yf.download(\"GGAL\", period= str(años)+'Y' , interval='1d')['Adj Close']\n",
    "local = yf.download(\"GGAL.BA\", period=str(años)+'Y' , interval='1d')['Adj Close']\n",
    "ccl = (10 * local / adr).to_frame()\n",
    "\n",
    "ccl.columns = ['CCL']\n",
    "\n",
    "# Contar cuantos NA hay\n",
    "ccl.isna().sum()"
   ]
  },
  {
   "cell_type": "code",
   "execution_count": null,
   "metadata": {},
   "outputs": [],
   "source": [
    "# creo una lista con todos los días de la semana \n",
    "fechas_con_fines_de_semana = pd.date_range(ccl.first_valid_index(), date.today())\n",
    "fechas_con_fines_de_semana"
   ]
  },
  {
   "cell_type": "code",
   "execution_count": null,
   "metadata": {},
   "outputs": [],
   "source": [
    "# reindexo el CCL para que tenga todos los días de la semana y los relleno con NaN\n",
    "ccl = ccl.reindex(fechas_con_fines_de_semana, fill_value=np.nan)\n",
    "ccl.index.name = 'Date'\n",
    "ccl[0:15]"
   ]
  },
  {
   "cell_type": "code",
   "execution_count": null,
   "metadata": {},
   "outputs": [],
   "source": [
    "# Relleno con foward fill\n",
    "ccl = ccl.fillna(method='ffill')\n",
    "ccl[0:15]"
   ]
  },
  {
   "cell_type": "code",
   "execution_count": null,
   "metadata": {},
   "outputs": [],
   "source": [
    "# Exporto los valores a un CSV\n",
    "ccl.to_csv('CCL.csv')"
   ]
  }
 ],
 "metadata": {
  "interpreter": {
   "hash": "186d8d91d0a2c4201230aea084efaf4e33b7d92a502e42db9f07f6f3b8511506"
  },
  "kernelspec": {
   "display_name": "Python 3.9.5 64-bit",
   "language": "python",
   "name": "python3"
  },
  "language_info": {
   "codemirror_mode": {
    "name": "ipython",
    "version": 3
   },
   "file_extension": ".py",
   "mimetype": "text/x-python",
   "name": "python",
   "nbconvert_exporter": "python",
   "pygments_lexer": "ipython3",
   "version": "3.9.7"
  },
  "orig_nbformat": 4
 },
 "nbformat": 4,
 "nbformat_minor": 2
}
